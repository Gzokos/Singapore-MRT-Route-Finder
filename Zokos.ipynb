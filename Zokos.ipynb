{
 "cells": [
  {
   "cell_type": "code",
   "execution_count": 1,
   "id": "cf5a8f38-6342-47a9-b7e2-5b6c8a4941ab",
   "metadata": {},
   "outputs": [],
   "source": [
    "import pandas as pd"
   ]
  },
  {
   "cell_type": "code",
   "execution_count": 2,
   "id": "1e8c87be-bd0a-468b-b2c8-09aacda75a60",
   "metadata": {},
   "outputs": [],
   "source": [
    "data = pd.read_csv('stations.csv')\n"
   ]
  },
  {
   "cell_type": "code",
   "execution_count": 3,
   "id": "be51dd30-0482-4c06-a0c3-b14667d117da",
   "metadata": {},
   "outputs": [],
   "source": [
    "features = pd.DataFrame()"
   ]
  },
  {
   "cell_type": "code",
   "execution_count": 4,
   "id": "d07f0fe2-f742-4398-93ea-43c23af94686",
   "metadata": {},
   "outputs": [],
   "source": [
    "features['name'] = data['STN_NAME']"
   ]
  },
  {
   "cell_type": "code",
   "execution_count": 5,
   "id": "d6dc792b-ae81-4139-92bf-fdeed4ae7533",
   "metadata": {},
   "outputs": [],
   "source": [
    "features['code'] = data['STN_NO']"
   ]
  },
  {
   "cell_type": "code",
   "execution_count": 6,
   "id": "6364d40f-3939-4da2-a0e1-fd78096d3c1c",
   "metadata": {},
   "outputs": [
    {
     "data": {
      "text/html": [
       "<div>\n",
       "<style scoped>\n",
       "    .dataframe tbody tr th:only-of-type {\n",
       "        vertical-align: middle;\n",
       "    }\n",
       "\n",
       "    .dataframe tbody tr th {\n",
       "        vertical-align: top;\n",
       "    }\n",
       "\n",
       "    .dataframe thead th {\n",
       "        text-align: right;\n",
       "    }\n",
       "</style>\n",
       "<table border=\"1\" class=\"dataframe\">\n",
       "  <thead>\n",
       "    <tr style=\"text-align: right;\">\n",
       "      <th></th>\n",
       "      <th>name</th>\n",
       "      <th>code</th>\n",
       "    </tr>\n",
       "  </thead>\n",
       "  <tbody>\n",
       "    <tr>\n",
       "      <th>0</th>\n",
       "      <td>EUNOS MRT STATION</td>\n",
       "      <td>EW7</td>\n",
       "    </tr>\n",
       "    <tr>\n",
       "      <th>1</th>\n",
       "      <td>CHINESE GARDEN MRT STATION</td>\n",
       "      <td>EW25</td>\n",
       "    </tr>\n",
       "    <tr>\n",
       "      <th>2</th>\n",
       "      <td>KHATIB MRT STATION</td>\n",
       "      <td>NS14</td>\n",
       "    </tr>\n",
       "    <tr>\n",
       "      <th>3</th>\n",
       "      <td>KRANJI MRT STATION</td>\n",
       "      <td>NS7</td>\n",
       "    </tr>\n",
       "    <tr>\n",
       "      <th>4</th>\n",
       "      <td>REDHILL MRT STATION</td>\n",
       "      <td>EW18</td>\n",
       "    </tr>\n",
       "  </tbody>\n",
       "</table>\n",
       "</div>"
      ],
      "text/plain": [
       "                         name  code\n",
       "0           EUNOS MRT STATION   EW7\n",
       "1  CHINESE GARDEN MRT STATION  EW25\n",
       "2          KHATIB MRT STATION  NS14\n",
       "3          KRANJI MRT STATION   NS7\n",
       "4         REDHILL MRT STATION  EW18"
      ]
     },
     "execution_count": 6,
     "metadata": {},
     "output_type": "execute_result"
    }
   ],
   "source": [
    "features.head()\n"
   ]
  },
  {
   "cell_type": "code",
   "execution_count": 7,
   "id": "dd36ebc8-ae97-40f7-908b-3966a6f450ab",
   "metadata": {},
   "outputs": [
    {
     "data": {
      "text/plain": [
       "(171, 2)"
      ]
     },
     "execution_count": 7,
     "metadata": {},
     "output_type": "execute_result"
    }
   ],
   "source": [
    "features.shape"
   ]
  },
  {
   "cell_type": "code",
   "execution_count": 8,
   "id": "d003d3c2-d29e-432e-a877-dbccfd50dee1",
   "metadata": {},
   "outputs": [
    {
     "name": "stdout",
     "output_type": "stream",
     "text": [
      "['EW8', 'CC9']\n",
      "['EW2', 'DT32']\n",
      "['CG1', 'DT35']\n",
      "['EW24', 'NS1']\n",
      "['NS9', 'TE2']\n",
      "['EW21', 'CC22']\n",
      "['CC10', 'DT26']\n",
      "['EW13', 'NS25']\n",
      "['NE1', 'CC29']\n",
      "['EW12', 'DT14']\n",
      "['NS22', 'TE14']\n",
      "['DT16', 'CE1']\n",
      "['CC17', 'TE9']\n",
      "['NS27', 'TE20', 'CE2']\n",
      "['NE4', 'DT19']\n",
      "['NS24', 'NE6', 'CC1']\n",
      "['NE12', 'CC13']\n",
      "['NS17', 'CC15']\n",
      "['NE7', 'DT12']\n",
      "['DT10', 'TE11']\n",
      "['CC4', 'DT15']\n",
      "['CC19', 'DT9']\n",
      "['EW14', 'NS26']\n",
      "['NS21', 'DT11']\n"
     ]
    }
   ],
   "source": [
    "rows_list = features.values\n",
    "new_rows = []\n",
    "for row in rows_list:\n",
    "    codes = row[1].split('/')\n",
    "    if len(codes) > 1:\n",
    "        print(codes)\n",
    "        row[1] = codes[0]\n",
    "        for i in range(1, len(codes)):\n",
    "            new_rows.append([row[0], codes[i]])\n",
    "        "
   ]
  },
  {
   "cell_type": "code",
   "execution_count": 9,
   "id": "d62f454b-7221-4c1a-8602-90d887be4c7e",
   "metadata": {},
   "outputs": [
    {
     "data": {
      "text/plain": [
       "[['PAYA LEBAR MRT STATION', 'CC9'],\n",
       " ['TAMPINES MRT STATION', 'DT32'],\n",
       " ['EXPO MRT STATION', 'DT35'],\n",
       " ['JURONG EAST MRT STATION', 'NS1'],\n",
       " ['WOODLANDS MRT STATION', 'TE2'],\n",
       " ['BUONA VISTA MRT STATION', 'CC22'],\n",
       " ['MACPHERSON MRT STATION', 'DT26'],\n",
       " ['CITY HALL MRT STATION', 'NS25'],\n",
       " ['HARBOURFRONT MRT STATION', 'CC29'],\n",
       " ['BUGIS MRT STATION', 'DT14'],\n",
       " ['ORCHARD MRT STATION', 'TE14'],\n",
       " ['BAYFRONT MRT STATION', 'CE1'],\n",
       " ['CALDECOTT MRT STATION', 'TE9'],\n",
       " ['MARINA BAY MRT STATION', 'TE20'],\n",
       " ['MARINA BAY MRT STATION', 'CE2'],\n",
       " ['CHINATOWN MRT STATION', 'DT19'],\n",
       " ['DHOBY GHAUT MRT STATION', 'NE6'],\n",
       " ['DHOBY GHAUT MRT STATION', 'CC1'],\n",
       " ['SERANGOON MRT STATION', 'CC13'],\n",
       " ['BISHAN MRT STATION', 'CC15'],\n",
       " ['LITTLE INDIA MRT STATION', 'DT12'],\n",
       " ['STEVENS MRT STATION', 'TE11'],\n",
       " ['PROMENADE MRT STATION', 'DT15'],\n",
       " ['BOTANIC GARDENS MRT STATION', 'DT9'],\n",
       " ['RAFFLES PLACE MRT STATION', 'NS26'],\n",
       " ['NEWTON MRT STATION', 'DT11']]"
      ]
     },
     "execution_count": 9,
     "metadata": {},
     "output_type": "execute_result"
    }
   ],
   "source": [
    "new_rows"
   ]
  },
  {
   "cell_type": "code",
   "execution_count": 10,
   "id": "fa2e39b5-fd36-4727-9890-62cff142f7e1",
   "metadata": {},
   "outputs": [],
   "source": [
    "rows = rows_list.tolist()\n",
    "for row in new_rows:\n",
    "    rows.append(row)"
   ]
  },
  {
   "cell_type": "code",
   "execution_count": 11,
   "id": "c6470194-bd1e-416b-a702-e003a5b04aae",
   "metadata": {},
   "outputs": [],
   "source": [
    "df = pd.DataFrame(rows)"
   ]
  },
  {
   "cell_type": "code",
   "execution_count": 12,
   "id": "c85a3d28-2ed2-46cc-ab54-833fb7a90582",
   "metadata": {},
   "outputs": [
    {
     "data": {
      "text/plain": [
       "26"
      ]
     },
     "execution_count": 12,
     "metadata": {},
     "output_type": "execute_result"
    }
   ],
   "source": [
    "len(new_rows)"
   ]
  },
  {
   "cell_type": "code",
   "execution_count": 13,
   "id": "bdefb474-1077-4cab-88ca-4b8f91af1453",
   "metadata": {},
   "outputs": [
    {
     "data": {
      "text/plain": [
       "(197, 2)"
      ]
     },
     "execution_count": 13,
     "metadata": {},
     "output_type": "execute_result"
    }
   ],
   "source": [
    "df.shape"
   ]
  },
  {
   "cell_type": "code",
   "execution_count": 14,
   "id": "2da0905b-fdcd-44bd-9b3e-caa45f011426",
   "metadata": {},
   "outputs": [],
   "source": [
    "df['line'] = None\n"
   ]
  },
  {
   "cell_type": "code",
   "execution_count": 15,
   "id": "fecdce7d-f308-48ba-b68c-d6e00f053835",
   "metadata": {},
   "outputs": [],
   "source": [
    "df['num'] = None"
   ]
  },
  {
   "cell_type": "code",
   "execution_count": 16,
   "id": "86bc3a0c-5663-4b5f-8520-723c24b956e8",
   "metadata": {},
   "outputs": [],
   "source": [
    "import re"
   ]
  },
  {
   "cell_type": "code",
   "execution_count": 17,
   "id": "81e6331b-496b-4eb1-896e-22bb842159c5",
   "metadata": {},
   "outputs": [],
   "source": [
    "pattern_digits = \"[0-9]+\"\n",
    "pattern_capital = \"[A-Z]+\""
   ]
  },
  {
   "cell_type": "code",
   "execution_count": 18,
   "id": "3efc6ca2-2e09-4dbc-a201-b166b896331a",
   "metadata": {},
   "outputs": [],
   "source": [
    "def extract_digits(code):\n",
    "    result = re.findall(pattern_digits, code)\n",
    "    if len(result) == 0:\n",
    "        print(\"Problem: \", code)\n",
    "        return None\n",
    "    return result[0]"
   ]
  },
  {
   "cell_type": "code",
   "execution_count": 19,
   "id": "869e652c-607c-4319-8c0c-eacfbcafb535",
   "metadata": {},
   "outputs": [],
   "source": [
    "def extract_letters(code):\n",
    "    result = re.findall(pattern_capital, code)\n",
    "    return result[0]"
   ]
  },
  {
   "cell_type": "code",
   "execution_count": 20,
   "id": "b37c1a4f-13ad-40d2-83f6-6c1c59a31824",
   "metadata": {},
   "outputs": [
    {
     "data": {
      "text/html": [
       "<div>\n",
       "<style scoped>\n",
       "    .dataframe tbody tr th:only-of-type {\n",
       "        vertical-align: middle;\n",
       "    }\n",
       "\n",
       "    .dataframe tbody tr th {\n",
       "        vertical-align: top;\n",
       "    }\n",
       "\n",
       "    .dataframe thead th {\n",
       "        text-align: right;\n",
       "    }\n",
       "</style>\n",
       "<table border=\"1\" class=\"dataframe\">\n",
       "  <thead>\n",
       "    <tr style=\"text-align: right;\">\n",
       "      <th></th>\n",
       "      <th>0</th>\n",
       "      <th>1</th>\n",
       "      <th>line</th>\n",
       "      <th>num</th>\n",
       "    </tr>\n",
       "  </thead>\n",
       "  <tbody>\n",
       "    <tr>\n",
       "      <th>0</th>\n",
       "      <td>EUNOS MRT STATION</td>\n",
       "      <td>EW7</td>\n",
       "      <td>None</td>\n",
       "      <td>None</td>\n",
       "    </tr>\n",
       "    <tr>\n",
       "      <th>1</th>\n",
       "      <td>CHINESE GARDEN MRT STATION</td>\n",
       "      <td>EW25</td>\n",
       "      <td>None</td>\n",
       "      <td>None</td>\n",
       "    </tr>\n",
       "    <tr>\n",
       "      <th>2</th>\n",
       "      <td>KHATIB MRT STATION</td>\n",
       "      <td>NS14</td>\n",
       "      <td>None</td>\n",
       "      <td>None</td>\n",
       "    </tr>\n",
       "    <tr>\n",
       "      <th>3</th>\n",
       "      <td>KRANJI MRT STATION</td>\n",
       "      <td>NS7</td>\n",
       "      <td>None</td>\n",
       "      <td>None</td>\n",
       "    </tr>\n",
       "    <tr>\n",
       "      <th>4</th>\n",
       "      <td>REDHILL MRT STATION</td>\n",
       "      <td>EW18</td>\n",
       "      <td>None</td>\n",
       "      <td>None</td>\n",
       "    </tr>\n",
       "  </tbody>\n",
       "</table>\n",
       "</div>"
      ],
      "text/plain": [
       "                            0     1  line   num\n",
       "0           EUNOS MRT STATION   EW7  None  None\n",
       "1  CHINESE GARDEN MRT STATION  EW25  None  None\n",
       "2          KHATIB MRT STATION  NS14  None  None\n",
       "3          KRANJI MRT STATION   NS7  None  None\n",
       "4         REDHILL MRT STATION  EW18  None  None"
      ]
     },
     "execution_count": 20,
     "metadata": {},
     "output_type": "execute_result"
    }
   ],
   "source": [
    "df.head()"
   ]
  },
  {
   "cell_type": "code",
   "execution_count": 25,
   "id": "0fcad660-a33b-4369-b413-0c85c2895b51",
   "metadata": {},
   "outputs": [],
   "source": [
    "df.rename(columns={0: 'name', 1: 'code'}, inplace=True)"
   ]
  },
  {
   "cell_type": "code",
   "execution_count": 26,
   "id": "7ef6c27b-71f1-4d50-a229-eb64fafebb88",
   "metadata": {},
   "outputs": [
    {
     "data": {
      "text/html": [
       "<div>\n",
       "<style scoped>\n",
       "    .dataframe tbody tr th:only-of-type {\n",
       "        vertical-align: middle;\n",
       "    }\n",
       "\n",
       "    .dataframe tbody tr th {\n",
       "        vertical-align: top;\n",
       "    }\n",
       "\n",
       "    .dataframe thead th {\n",
       "        text-align: right;\n",
       "    }\n",
       "</style>\n",
       "<table border=\"1\" class=\"dataframe\">\n",
       "  <thead>\n",
       "    <tr style=\"text-align: right;\">\n",
       "      <th></th>\n",
       "      <th>name</th>\n",
       "      <th>code</th>\n",
       "      <th>line</th>\n",
       "      <th>num</th>\n",
       "    </tr>\n",
       "  </thead>\n",
       "  <tbody>\n",
       "    <tr>\n",
       "      <th>0</th>\n",
       "      <td>EUNOS MRT STATION</td>\n",
       "      <td>EW7</td>\n",
       "      <td>None</td>\n",
       "      <td>None</td>\n",
       "    </tr>\n",
       "    <tr>\n",
       "      <th>1</th>\n",
       "      <td>CHINESE GARDEN MRT STATION</td>\n",
       "      <td>EW25</td>\n",
       "      <td>None</td>\n",
       "      <td>None</td>\n",
       "    </tr>\n",
       "    <tr>\n",
       "      <th>2</th>\n",
       "      <td>KHATIB MRT STATION</td>\n",
       "      <td>NS14</td>\n",
       "      <td>None</td>\n",
       "      <td>None</td>\n",
       "    </tr>\n",
       "    <tr>\n",
       "      <th>3</th>\n",
       "      <td>KRANJI MRT STATION</td>\n",
       "      <td>NS7</td>\n",
       "      <td>None</td>\n",
       "      <td>None</td>\n",
       "    </tr>\n",
       "    <tr>\n",
       "      <th>4</th>\n",
       "      <td>REDHILL MRT STATION</td>\n",
       "      <td>EW18</td>\n",
       "      <td>None</td>\n",
       "      <td>None</td>\n",
       "    </tr>\n",
       "  </tbody>\n",
       "</table>\n",
       "</div>"
      ],
      "text/plain": [
       "                         name  code  line   num\n",
       "0           EUNOS MRT STATION   EW7  None  None\n",
       "1  CHINESE GARDEN MRT STATION  EW25  None  None\n",
       "2          KHATIB MRT STATION  NS14  None  None\n",
       "3          KRANJI MRT STATION   NS7  None  None\n",
       "4         REDHILL MRT STATION  EW18  None  None"
      ]
     },
     "execution_count": 26,
     "metadata": {},
     "output_type": "execute_result"
    }
   ],
   "source": [
    "\n",
    "df.head()"
   ]
  },
  {
   "cell_type": "code",
   "execution_count": 27,
   "id": "882f51b9-73dc-45d2-903d-3dfd521ade0d",
   "metadata": {},
   "outputs": [],
   "source": [
    "df['line'] = df.apply(lambda x: extract_letters(x.code), axis=1)\n"
   ]
  },
  {
   "cell_type": "code",
   "execution_count": 28,
   "id": "1dd889ed-b975-43e2-9ba5-9b92818846d3",
   "metadata": {},
   "outputs": [
    {
     "data": {
      "text/html": [
       "<div>\n",
       "<style scoped>\n",
       "    .dataframe tbody tr th:only-of-type {\n",
       "        vertical-align: middle;\n",
       "    }\n",
       "\n",
       "    .dataframe tbody tr th {\n",
       "        vertical-align: top;\n",
       "    }\n",
       "\n",
       "    .dataframe thead th {\n",
       "        text-align: right;\n",
       "    }\n",
       "</style>\n",
       "<table border=\"1\" class=\"dataframe\">\n",
       "  <thead>\n",
       "    <tr style=\"text-align: right;\">\n",
       "      <th></th>\n",
       "      <th>name</th>\n",
       "      <th>code</th>\n",
       "      <th>line</th>\n",
       "      <th>num</th>\n",
       "    </tr>\n",
       "  </thead>\n",
       "  <tbody>\n",
       "    <tr>\n",
       "      <th>0</th>\n",
       "      <td>EUNOS MRT STATION</td>\n",
       "      <td>EW7</td>\n",
       "      <td>EW</td>\n",
       "      <td>None</td>\n",
       "    </tr>\n",
       "    <tr>\n",
       "      <th>1</th>\n",
       "      <td>CHINESE GARDEN MRT STATION</td>\n",
       "      <td>EW25</td>\n",
       "      <td>EW</td>\n",
       "      <td>None</td>\n",
       "    </tr>\n",
       "    <tr>\n",
       "      <th>2</th>\n",
       "      <td>KHATIB MRT STATION</td>\n",
       "      <td>NS14</td>\n",
       "      <td>NS</td>\n",
       "      <td>None</td>\n",
       "    </tr>\n",
       "    <tr>\n",
       "      <th>3</th>\n",
       "      <td>KRANJI MRT STATION</td>\n",
       "      <td>NS7</td>\n",
       "      <td>NS</td>\n",
       "      <td>None</td>\n",
       "    </tr>\n",
       "    <tr>\n",
       "      <th>4</th>\n",
       "      <td>REDHILL MRT STATION</td>\n",
       "      <td>EW18</td>\n",
       "      <td>EW</td>\n",
       "      <td>None</td>\n",
       "    </tr>\n",
       "  </tbody>\n",
       "</table>\n",
       "</div>"
      ],
      "text/plain": [
       "                         name  code line   num\n",
       "0           EUNOS MRT STATION   EW7   EW  None\n",
       "1  CHINESE GARDEN MRT STATION  EW25   EW  None\n",
       "2          KHATIB MRT STATION  NS14   NS  None\n",
       "3          KRANJI MRT STATION   NS7   NS  None\n",
       "4         REDHILL MRT STATION  EW18   EW  None"
      ]
     },
     "execution_count": 28,
     "metadata": {},
     "output_type": "execute_result"
    }
   ],
   "source": [
    "df.head()"
   ]
  },
  {
   "cell_type": "code",
   "execution_count": 29,
   "id": "c2f1e5bf-defc-4d35-9ffc-069a6ed39e4f",
   "metadata": {},
   "outputs": [
    {
     "name": "stdout",
     "output_type": "stream",
     "text": [
      "Problem:  PTC\n",
      "Problem:  STC\n"
     ]
    }
   ],
   "source": [
    "df['num'] = df.apply(lambda x: extract_digits(x.code), axis=1)"
   ]
  },
  {
   "cell_type": "code",
   "execution_count": 30,
   "id": "e925906b-9506-4b4e-8096-14c108efab2d",
   "metadata": {},
   "outputs": [
    {
     "data": {
      "text/html": [
       "<div>\n",
       "<style scoped>\n",
       "    .dataframe tbody tr th:only-of-type {\n",
       "        vertical-align: middle;\n",
       "    }\n",
       "\n",
       "    .dataframe tbody tr th {\n",
       "        vertical-align: top;\n",
       "    }\n",
       "\n",
       "    .dataframe thead th {\n",
       "        text-align: right;\n",
       "    }\n",
       "</style>\n",
       "<table border=\"1\" class=\"dataframe\">\n",
       "  <thead>\n",
       "    <tr style=\"text-align: right;\">\n",
       "      <th></th>\n",
       "      <th>name</th>\n",
       "      <th>code</th>\n",
       "      <th>line</th>\n",
       "      <th>num</th>\n",
       "    </tr>\n",
       "  </thead>\n",
       "  <tbody>\n",
       "    <tr>\n",
       "      <th>0</th>\n",
       "      <td>EUNOS MRT STATION</td>\n",
       "      <td>EW7</td>\n",
       "      <td>EW</td>\n",
       "      <td>7</td>\n",
       "    </tr>\n",
       "    <tr>\n",
       "      <th>1</th>\n",
       "      <td>CHINESE GARDEN MRT STATION</td>\n",
       "      <td>EW25</td>\n",
       "      <td>EW</td>\n",
       "      <td>25</td>\n",
       "    </tr>\n",
       "    <tr>\n",
       "      <th>2</th>\n",
       "      <td>KHATIB MRT STATION</td>\n",
       "      <td>NS14</td>\n",
       "      <td>NS</td>\n",
       "      <td>14</td>\n",
       "    </tr>\n",
       "    <tr>\n",
       "      <th>3</th>\n",
       "      <td>KRANJI MRT STATION</td>\n",
       "      <td>NS7</td>\n",
       "      <td>NS</td>\n",
       "      <td>7</td>\n",
       "    </tr>\n",
       "    <tr>\n",
       "      <th>4</th>\n",
       "      <td>REDHILL MRT STATION</td>\n",
       "      <td>EW18</td>\n",
       "      <td>EW</td>\n",
       "      <td>18</td>\n",
       "    </tr>\n",
       "  </tbody>\n",
       "</table>\n",
       "</div>"
      ],
      "text/plain": [
       "                         name  code line num\n",
       "0           EUNOS MRT STATION   EW7   EW   7\n",
       "1  CHINESE GARDEN MRT STATION  EW25   EW  25\n",
       "2          KHATIB MRT STATION  NS14   NS  14\n",
       "3          KRANJI MRT STATION   NS7   NS   7\n",
       "4         REDHILL MRT STATION  EW18   EW  18"
      ]
     },
     "execution_count": 30,
     "metadata": {},
     "output_type": "execute_result"
    }
   ],
   "source": [
    "df.head()"
   ]
  },
  {
   "cell_type": "code",
   "execution_count": 31,
   "id": "75e3b90b-9a52-421a-a12c-854baaac60db",
   "metadata": {},
   "outputs": [
    {
     "data": {
      "text/plain": [
       "(197, 4)"
      ]
     },
     "execution_count": 31,
     "metadata": {},
     "output_type": "execute_result"
    }
   ],
   "source": [
    "df.shape\n"
   ]
  },
  {
   "cell_type": "code",
   "execution_count": 32,
   "id": "96c3973b-579c-4305-880a-e541b47af36c",
   "metadata": {},
   "outputs": [],
   "source": [
    "df = df.dropna()"
   ]
  },
  {
   "cell_type": "code",
   "execution_count": 35,
   "id": "f8df0e2d-6a50-4be9-817b-51b518d5b7b1",
   "metadata": {},
   "outputs": [],
   "source": [
    "temp = df[~df.line.isin(['BP', 'SW', 'SE', 'PE', 'PW'])] "
   ]
  },
  {
   "cell_type": "code",
   "execution_count": 36,
   "id": "cf74043e-c895-4e0f-af36-1debc677a9a8",
   "metadata": {},
   "outputs": [
    {
     "data": {
      "text/plain": [
       "(155, 4)"
      ]
     },
     "execution_count": 36,
     "metadata": {},
     "output_type": "execute_result"
    }
   ],
   "source": [
    "temp.shape"
   ]
  },
  {
   "cell_type": "code",
   "execution_count": 37,
   "id": "9e05f1d1-879b-42c5-86ae-f7058631f6b8",
   "metadata": {},
   "outputs": [
    {
     "name": "stdout",
     "output_type": "stream",
     "text": [
      "['EUNOS MRT STATION' 'EW7' 'EW' '7']\n",
      "['CHINESE GARDEN MRT STATION' 'EW25' 'EW' '25']\n",
      "['KHATIB MRT STATION' 'NS14' 'NS' '14']\n",
      "['KRANJI MRT STATION' 'NS7' 'NS' '7']\n",
      "['REDHILL MRT STATION' 'EW18' 'EW' '18']\n",
      "['YEW TEE MRT STATION' 'NS5' 'NS' '5']\n",
      "['PIONEER MRT STATION' 'EW28' 'EW' '28']\n",
      "['COMMONWEALTH MRT STATION' 'EW20' 'EW' '20']\n",
      "['PAYA LEBAR MRT STATION' 'EW8' 'EW' '8']\n",
      "['SIMEI MRT STATION' 'EW3' 'EW' '3']\n",
      "['TAMPINES MRT STATION' 'EW2' 'EW' '2']\n",
      "['ADMIRALTY MRT STATION' 'NS10' 'NS' '10']\n",
      "['YISHUN MRT STATION' 'NS13' 'NS' '13']\n",
      "['PASIR RIS MRT STATION' 'EW1' 'EW' '1']\n",
      "['CLEMENTI MRT STATION' 'EW23' 'EW' '23']\n",
      "['ALJUNIED MRT STATION' 'EW9' 'EW' '9']\n",
      "['ANG MO KIO MRT STATION' 'NS16' 'NS' '16']\n",
      "['EXPO MRT STATION' 'CG1' 'CG' '1']\n",
      "['CHOA CHU KANG MRT STATION' 'NS4' 'NS' '4']\n",
      "['JURONG EAST MRT STATION' 'EW24' 'EW' '24']\n",
      "['QUEENSTOWN MRT STATION' 'EW19' 'EW' '19']\n",
      "['TUAS LINK MRT STATION' 'EW33' 'EW' '33']\n",
      "['GUL CIRCLE MRT STATION' 'EW30' 'EW' '30']\n",
      "['WOODLANDS MRT STATION' 'NS9' 'NS' '9']\n",
      "['TUAS CRESCENT MRT STATION' 'EW31' 'EW' '31']\n",
      "['KALLANG MRT STATION' 'EW10' 'EW' '10']\n",
      "['TUAS WEST ROAD MRT STATION' 'EW32' 'EW' '32']\n",
      "['BUONA VISTA MRT STATION' 'EW21' 'EW' '21']\n",
      "['DOVER MRT STATION' 'EW22' 'EW' '22']\n",
      "['SEMBAWANG MRT STATION' 'NS11' 'NS' '11']\n",
      "['KEMBANGAN MRT STATION' 'EW6' 'EW' '6']\n",
      "['BUKIT BATOK MRT STATION' 'NS2' 'NS' '2']\n",
      "['BOON LAY MRT STATION' 'EW27' 'EW' '27']\n",
      "['BUKIT GOMBAK MRT STATION' 'NS3' 'NS' '3']\n",
      "['MARSILING MRT STATION' 'NS8' 'NS' '8']\n",
      "['BEDOK MRT STATION' 'EW5' 'EW' '5']\n",
      "['JOO KOON MRT STATION' 'EW29' 'EW' '29']\n",
      "['LAKESIDE MRT STATION' 'EW26' 'EW' '26']\n",
      "['TANAH MERAH MRT STATION' 'EW4' 'EW' '4']\n",
      "['YIO CHU KANG MRT STATION' 'NS15' 'NS' '15']\n",
      "['BRAS BASAH MRT STATION' 'CC2' 'CC' '2']\n",
      "['MACPHERSON MRT STATION' 'CC10' 'CC' '10']\n",
      "['CITY HALL MRT STATION' 'EW13' 'EW' '13']\n",
      "['TAMPINES EAST MRT STATION' 'DT33' 'DT' '33']\n",
      "['TAMPINES WEST MRT STATION' 'DT31' 'DT' '31']\n",
      "['GEYLANG BAHRU MRT STATION' 'DT24' 'DT' '24']\n",
      "['BENDEMEER MRT STATION' 'DT23' 'DT' '23']\n",
      "['BENCOOLEN MRT STATION' 'DT21' 'DT' '21']\n",
      "['HARBOURFRONT MRT STATION' 'NE1' 'NE' '1']\n",
      "['KENT RIDGE MRT STATION' 'CC24' 'CC' '24']\n",
      "['PUNGGOL MRT STATION' 'NE17' 'NE' '17']\n",
      "['TANJONG PAGAR MRT STATION' 'EW15' 'EW' '15']\n",
      "['ONE-NORTH MRT STATION' 'CC23' 'CC' '23']\n",
      "['STADIUM MRT STATION' 'CC6' 'CC' '6']\n",
      "['BUGIS MRT STATION' 'EW12' 'EW' '12']\n",
      "['SOMERSET MRT STATION' 'NS23' 'NS' '23']\n",
      "['ORCHARD MRT STATION' 'NS22' 'NS' '22']\n",
      "['JALAN BESAR MRT STATION' 'DT22' 'DT' '22']\n",
      "['BAYFRONT MRT STATION' 'DT16' 'DT' '16']\n",
      "['SENGKANG MRT STATION' 'NE16' 'NE' '16']\n",
      "['BUKIT BROWN MRT STATION' 'CC18' 'CC' '18']\n",
      "['MOUNTBATTEN MRT STATION' 'CC7' 'CC' '7']\n",
      "['KOVAN MRT STATION' 'NE13' 'NE' '13']\n",
      "['FORT CANNING MRT STATION' 'DT20' 'DT' '20']\n",
      "['FARRER ROAD MRT STATION' 'CC20' 'CC' '20']\n",
      "['DOWNTOWN MRT STATION' 'DT17' 'DT' '17']\n",
      "['ESPLANADE MRT STATION' 'CC3' 'CC' '3']\n",
      "['NICOLL HIGHWAY MRT STATION' 'CC5' 'CC' '5']\n",
      "['CALDECOTT MRT STATION' 'CC17' 'CC' '17']\n",
      "['MARINA BAY MRT STATION' 'NS27' 'NS' '27']\n",
      "['LABRADOR PARK MRT STATION' 'CC27' 'CC' '27']\n",
      "['CHINATOWN MRT STATION' 'NE4' 'NE' '4']\n",
      "['TAN KAH KEE MRT STATION' 'DT8' 'DT' '8']\n",
      "['TIONG BAHRU MRT STATION' 'EW17' 'EW' '17']\n",
      "['HILLVIEW MRT STATION' 'DT3' 'DT' '3']\n",
      "['KING ALBERT PARK MRT STATION' 'DT6' 'DT' '6']\n",
      "['MATTAR MRT STATION' 'DT25' 'DT' '25']\n",
      "['UBI MRT STATION' 'DT27' 'DT' '27']\n",
      "['BEAUTY WORLD MRT STATION' 'DT5' 'DT' '5']\n",
      "['KAKI BUKIT MRT STATION' 'DT28' 'DT' '28']\n",
      "['BEDOK NORTH MRT STATION' 'DT29' 'DT' '29']\n",
      "['DHOBY GHAUT MRT STATION' 'NS24' 'NS' '24']\n",
      "['WOODLEIGH MRT STATION' 'NE11' 'NE' '11']\n",
      "['NOVENA MRT STATION' 'NS20' 'NS' '20']\n",
      "['SERANGOON MRT STATION' 'NE12' 'NE' '12']\n",
      "['BEDOK RESERVOIR MRT STATION' 'DT30' 'DT' '30']\n",
      "['MARINA SOUTH PIER MRT STATION' 'NS28' 'NS' '28']\n",
      "['FARRER PARK MRT STATION' 'NE8' 'NE' '8']\n",
      "['BARTLEY MRT STATION' 'CC12' 'CC' '12']\n",
      "['DAKOTA MRT STATION' 'CC8' 'CC' '8']\n",
      "['PASIR PANJANG MRT STATION' 'CC26' 'CC' '26']\n",
      "['CLARKE QUAY MRT STATION' 'NE5' 'NE' '5']\n",
      "['BISHAN MRT STATION' 'NS17' 'NS' '17']\n",
      "['MARYMOUNT MRT STATION' 'CC16' 'CC' '16']\n",
      "['HAW PAR VILLA MRT STATION' 'CC25' 'CC' '25']\n",
      "['LORONG CHUAN MRT STATION' 'CC14' 'CC' '14']\n",
      "['LAVENDER MRT STATION' 'EW11' 'EW' '11']\n",
      "['TAI SENG MRT STATION' 'CC11' 'CC' '11']\n",
      "['ROCHOR MRT STATION' 'DT13' 'DT' '13']\n",
      "['LITTLE INDIA MRT STATION' 'NE7' 'NE' '7']\n",
      "['STEVENS MRT STATION' 'DT10' 'DT' '10']\n",
      "['BUKIT PANJANG MRT STATION' 'DT1' 'DT' '1']\n",
      "['CASHEW MRT STATION' 'DT2' 'DT' '2']\n",
      "['SIXTH AVENUE MRT STATION' 'DT7' 'DT' '7']\n",
      "['TOA PAYOH MRT STATION' 'NS19' 'NS' '19']\n",
      "['WOODLANDS SOUTH MRT STATION' 'TE3' 'TE' '3']\n",
      "['POTONG PASIR MRT STATION' 'NE10' 'NE' '10']\n",
      "['HOUGANG MRT STATION' 'NE14' 'NE' '14']\n",
      "['BOON KENG MRT STATION' 'NE9' 'NE' '9']\n",
      "['UPPER CHANGI MRT STATION' 'DT34' 'DT' '34']\n",
      "['CHANGI AIRPORT MRT STATION' 'CG2' 'CG' '2']\n",
      "['BRADDELL MRT STATION' 'NS18' 'NS' '18']\n",
      "['BUANGKOK MRT STATION' 'NE15' 'NE' '15']\n",
      "['PROMENADE MRT STATION' 'CC4' 'CC' '4']\n",
      "['BOTANIC GARDENS MRT STATION' 'CC19' 'CC' '19']\n",
      "['RAFFLES PLACE MRT STATION' 'EW14' 'EW' '14']\n",
      "['HOLLAND VILLAGE MRT STATION' 'CC21' 'CC' '21']\n",
      "['OUTRAM PARK MRT STATION' 'EW16' 'EW' '16']\n",
      "['TELOK BLANGAH MRT STATION' 'CC28' 'CC' '28']\n",
      "['TELOK AYER MRT STATION' 'DT18' 'DT' '18']\n",
      "['NEWTON MRT STATION' 'NS21' 'NS' '21']\n",
      "['CANBERRA MRT STATION' 'NS12' 'NS' '12']\n",
      "['WOODLANDS NORTH MRT STATION' 'TE1' 'TE' '1']\n",
      "['HUME MRT STATION' 'DT4' 'DT' '4']\n",
      "['SPRINGLEAF MRT STATION' 'TE4' 'TE' '4']\n",
      "['LENTOR MRT STATION' 'TE5' 'TE' '5']\n",
      "['MAYFLOWER MRT STATION' 'TE6' 'TE' '6']\n",
      "['BRIGHT HILL MRT STATION' 'TE7' 'TE' '7']\n",
      "['UPPER THOMSON MRT STATION' 'TE8' 'TE' '8']\n",
      "['PAYA LEBAR MRT STATION' 'CC9' 'CC' '9']\n",
      "['TAMPINES MRT STATION' 'DT32' 'DT' '32']\n",
      "['EXPO MRT STATION' 'DT35' 'DT' '35']\n",
      "['JURONG EAST MRT STATION' 'NS1' 'NS' '1']\n",
      "['WOODLANDS MRT STATION' 'TE2' 'TE' '2']\n",
      "['BUONA VISTA MRT STATION' 'CC22' 'CC' '22']\n",
      "['MACPHERSON MRT STATION' 'DT26' 'DT' '26']\n",
      "['CITY HALL MRT STATION' 'NS25' 'NS' '25']\n",
      "['HARBOURFRONT MRT STATION' 'CC29' 'CC' '29']\n",
      "['BUGIS MRT STATION' 'DT14' 'DT' '14']\n",
      "['ORCHARD MRT STATION' 'TE14' 'TE' '14']\n",
      "['BAYFRONT MRT STATION' 'CE1' 'CE' '1']\n",
      "['CALDECOTT MRT STATION' 'TE9' 'TE' '9']\n",
      "['MARINA BAY MRT STATION' 'TE20' 'TE' '20']\n",
      "['MARINA BAY MRT STATION' 'CE2' 'CE' '2']\n",
      "['CHINATOWN MRT STATION' 'DT19' 'DT' '19']\n",
      "['DHOBY GHAUT MRT STATION' 'NE6' 'NE' '6']\n",
      "['DHOBY GHAUT MRT STATION' 'CC1' 'CC' '1']\n",
      "['SERANGOON MRT STATION' 'CC13' 'CC' '13']\n",
      "['BISHAN MRT STATION' 'CC15' 'CC' '15']\n",
      "['LITTLE INDIA MRT STATION' 'DT12' 'DT' '12']\n",
      "['STEVENS MRT STATION' 'TE11' 'TE' '11']\n",
      "['PROMENADE MRT STATION' 'DT15' 'DT' '15']\n",
      "['BOTANIC GARDENS MRT STATION' 'DT9' 'DT' '9']\n",
      "['RAFFLES PLACE MRT STATION' 'NS26' 'NS' '26']\n",
      "['NEWTON MRT STATION' 'DT11' 'DT' '11']\n"
     ]
    }
   ],
   "source": [
    "for row in temp.values:\n",
    "    print(row)"
   ]
  },
  {
   "cell_type": "code",
   "execution_count": 38,
   "id": "2c711b42-ec8b-46ae-8f14-59df7d063d99",
   "metadata": {},
   "outputs": [],
   "source": [
    "df = df[~df.line.isin(['BP', 'SW', 'SE', 'PE', 'PW'])] "
   ]
  },
  {
   "cell_type": "code",
   "execution_count": 39,
   "id": "78271ba5-98d4-4205-951f-0be255745f85",
   "metadata": {},
   "outputs": [
    {
     "data": {
      "text/plain": [
       "(155, 4)"
      ]
     },
     "execution_count": 39,
     "metadata": {},
     "output_type": "execute_result"
    }
   ],
   "source": [
    "df.shape"
   ]
  },
  {
   "cell_type": "code",
   "execution_count": 40,
   "id": "2045e696-055d-4596-80be-9e0a30e54fae",
   "metadata": {},
   "outputs": [],
   "source": [
    "class Station:\n",
    "    def __init__(self, name, code, line, num):\n",
    "        self.name = name\n",
    "        self.code = code\n",
    "        self.line = line \n",
    "        self.num = num \n",
    "        self.edges = [] \n",
    "\n",
    "    def display(self):\n",
    "        print(self.code, self.name, self.edges)"
   ]
  },
  {
   "cell_type": "code",
   "execution_count": 41,
   "id": "108e7b0c-f58a-4db6-b0ea-a5bb1ef10bf4",
   "metadata": {},
   "outputs": [],
   "source": [
    "metro = {}"
   ]
  },
  {
   "cell_type": "code",
   "execution_count": 42,
   "id": "7371eea5-d40f-4e49-8872-cdc24b5ff26d",
   "metadata": {},
   "outputs": [],
   "source": [
    "for row in df.values:\n",
    "    s = Station(row[0], row[1], row[2], row[3])\n",
    "    metro[row[1]] = s"
   ]
  },
  {
   "cell_type": "code",
   "execution_count": 43,
   "id": "ae90d03a-982b-4a1e-a29f-ef90175baae1",
   "metadata": {},
   "outputs": [],
   "source": [
    "df['num'] = pd.to_numeric(df['num'], downcast='integer')"
   ]
  },
  {
   "cell_type": "code",
   "execution_count": 44,
   "id": "804656a4-6b34-435e-b365-7d16d5fc08f1",
   "metadata": {},
   "outputs": [
    {
     "data": {
      "text/html": [
       "<div>\n",
       "<style scoped>\n",
       "    .dataframe tbody tr th:only-of-type {\n",
       "        vertical-align: middle;\n",
       "    }\n",
       "\n",
       "    .dataframe tbody tr th {\n",
       "        vertical-align: top;\n",
       "    }\n",
       "\n",
       "    .dataframe thead th {\n",
       "        text-align: right;\n",
       "    }\n",
       "</style>\n",
       "<table border=\"1\" class=\"dataframe\">\n",
       "  <thead>\n",
       "    <tr style=\"text-align: right;\">\n",
       "      <th></th>\n",
       "      <th>name</th>\n",
       "      <th>code</th>\n",
       "      <th>line</th>\n",
       "      <th>num</th>\n",
       "    </tr>\n",
       "  </thead>\n",
       "  <tbody>\n",
       "  </tbody>\n",
       "</table>\n",
       "</div>"
      ],
      "text/plain": [
       "Empty DataFrame\n",
       "Columns: [name, code, line, num]\n",
       "Index: []"
      ]
     },
     "execution_count": 44,
     "metadata": {},
     "output_type": "execute_result"
    }
   ],
   "source": [
    "df[df.isna().any(axis=1)]"
   ]
  },
  {
   "cell_type": "code",
   "execution_count": 45,
   "id": "9dde901d-cc0f-4379-99af-a54884960260",
   "metadata": {},
   "outputs": [],
   "source": [
    "df = df.sort_values(['line', 'num'], ascending=[True, True])"
   ]
  },
  {
   "cell_type": "code",
   "execution_count": 46,
   "id": "d16e756f-4566-4551-bee6-dfb82ccf142b",
   "metadata": {},
   "outputs": [
    {
     "name": "stdout",
     "output_type": "stream",
     "text": [
      "['DHOBY GHAUT MRT STATION' 'CC1' 'CC' 1]\n",
      "['BRAS BASAH MRT STATION' 'CC2' 'CC' 2]\n",
      "['ESPLANADE MRT STATION' 'CC3' 'CC' 3]\n",
      "['PROMENADE MRT STATION' 'CC4' 'CC' 4]\n",
      "['NICOLL HIGHWAY MRT STATION' 'CC5' 'CC' 5]\n",
      "['STADIUM MRT STATION' 'CC6' 'CC' 6]\n",
      "['MOUNTBATTEN MRT STATION' 'CC7' 'CC' 7]\n",
      "['DAKOTA MRT STATION' 'CC8' 'CC' 8]\n",
      "['PAYA LEBAR MRT STATION' 'CC9' 'CC' 9]\n",
      "['MACPHERSON MRT STATION' 'CC10' 'CC' 10]\n",
      "['TAI SENG MRT STATION' 'CC11' 'CC' 11]\n",
      "['BARTLEY MRT STATION' 'CC12' 'CC' 12]\n",
      "['SERANGOON MRT STATION' 'CC13' 'CC' 13]\n",
      "['LORONG CHUAN MRT STATION' 'CC14' 'CC' 14]\n",
      "['BISHAN MRT STATION' 'CC15' 'CC' 15]\n",
      "['MARYMOUNT MRT STATION' 'CC16' 'CC' 16]\n",
      "['CALDECOTT MRT STATION' 'CC17' 'CC' 17]\n",
      "['BUKIT BROWN MRT STATION' 'CC18' 'CC' 18]\n",
      "['BOTANIC GARDENS MRT STATION' 'CC19' 'CC' 19]\n",
      "['FARRER ROAD MRT STATION' 'CC20' 'CC' 20]\n",
      "['HOLLAND VILLAGE MRT STATION' 'CC21' 'CC' 21]\n",
      "['BUONA VISTA MRT STATION' 'CC22' 'CC' 22]\n",
      "['ONE-NORTH MRT STATION' 'CC23' 'CC' 23]\n",
      "['KENT RIDGE MRT STATION' 'CC24' 'CC' 24]\n",
      "['HAW PAR VILLA MRT STATION' 'CC25' 'CC' 25]\n",
      "['PASIR PANJANG MRT STATION' 'CC26' 'CC' 26]\n",
      "['LABRADOR PARK MRT STATION' 'CC27' 'CC' 27]\n",
      "['TELOK BLANGAH MRT STATION' 'CC28' 'CC' 28]\n",
      "['HARBOURFRONT MRT STATION' 'CC29' 'CC' 29]\n"
     ]
    }
   ],
   "source": [
    "for row in df.values:\n",
    "    if row[2] == 'CC':\n",
    "        print(row)"
   ]
  },
  {
   "cell_type": "code",
   "execution_count": 47,
   "id": "63f6e831-051e-4091-ba64-1a220af71803",
   "metadata": {},
   "outputs": [
    {
     "name": "stdout",
     "output_type": "stream",
     "text": [
      "<class 'pandas.core.frame.DataFrame'>\n",
      "Index: 155 entries, 188 to 184\n",
      "Data columns (total 4 columns):\n",
      " #   Column  Non-Null Count  Dtype \n",
      "---  ------  --------------  ----- \n",
      " 0   name    155 non-null    object\n",
      " 1   code    155 non-null    object\n",
      " 2   line    155 non-null    object\n",
      " 3   num     155 non-null    int8  \n",
      "dtypes: int8(1), object(3)\n",
      "memory usage: 5.0+ KB\n"
     ]
    }
   ],
   "source": [
    "df.info()"
   ]
  },
  {
   "cell_type": "code",
   "execution_count": 48,
   "id": "ec0855f8-ca77-4eb5-9876-e21c96d2b702",
   "metadata": {},
   "outputs": [],
   "source": [
    "row_list = df.values\n",
    "for i in range(len(row_list)-1):\n",
    "    current = row_list[i]\n",
    "    next_row = row_list[i+1]\n",
    "    if current[2] == next_row[2]:\n",
    "        if next_row[3] - current[3] == 1:\n",
    "            metro[current[1]].edges.append(next_row[1])\n",
    "            metro[next_row[1]].edges.append(current[1])"
   ]
  },
  {
   "cell_type": "code",
   "execution_count": 49,
   "id": "8867ba4f-4c15-45fd-8cb6-90934e24e01e",
   "metadata": {},
   "outputs": [
    {
     "name": "stdout",
     "output_type": "stream",
     "text": [
      "DT11 NEWTON MRT STATION ['DT10', 'DT12']\n"
     ]
    }
   ],
   "source": [
    "metro['DT11'].display()"
   ]
  },
  {
   "cell_type": "code",
   "execution_count": 50,
   "id": "47194376-b1b3-4ac2-a6a7-0f69cde9ad83",
   "metadata": {},
   "outputs": [],
   "source": [
    "df = df.sort_values(['name'], ascending=[True])\n"
   ]
  },
  {
   "cell_type": "code",
   "execution_count": 51,
   "id": "efc0b7ca-a346-42d2-90c9-31779ffb4b03",
   "metadata": {},
   "outputs": [
    {
     "data": {
      "text/html": [
       "<div>\n",
       "<style scoped>\n",
       "    .dataframe tbody tr th:only-of-type {\n",
       "        vertical-align: middle;\n",
       "    }\n",
       "\n",
       "    .dataframe tbody tr th {\n",
       "        vertical-align: top;\n",
       "    }\n",
       "\n",
       "    .dataframe thead th {\n",
       "        text-align: right;\n",
       "    }\n",
       "</style>\n",
       "<table border=\"1\" class=\"dataframe\">\n",
       "  <thead>\n",
       "    <tr style=\"text-align: right;\">\n",
       "      <th></th>\n",
       "      <th>name</th>\n",
       "      <th>code</th>\n",
       "      <th>line</th>\n",
       "      <th>num</th>\n",
       "    </tr>\n",
       "  </thead>\n",
       "  <tbody>\n",
       "    <tr>\n",
       "      <th>11</th>\n",
       "      <td>ADMIRALTY MRT STATION</td>\n",
       "      <td>NS10</td>\n",
       "      <td>NS</td>\n",
       "      <td>10</td>\n",
       "    </tr>\n",
       "    <tr>\n",
       "      <th>15</th>\n",
       "      <td>ALJUNIED MRT STATION</td>\n",
       "      <td>EW9</td>\n",
       "      <td>EW</td>\n",
       "      <td>9</td>\n",
       "    </tr>\n",
       "    <tr>\n",
       "      <th>16</th>\n",
       "      <td>ANG MO KIO MRT STATION</td>\n",
       "      <td>NS16</td>\n",
       "      <td>NS</td>\n",
       "      <td>16</td>\n",
       "    </tr>\n",
       "    <tr>\n",
       "      <th>130</th>\n",
       "      <td>BARTLEY MRT STATION</td>\n",
       "      <td>CC12</td>\n",
       "      <td>CC</td>\n",
       "      <td>12</td>\n",
       "    </tr>\n",
       "    <tr>\n",
       "      <th>182</th>\n",
       "      <td>BAYFRONT MRT STATION</td>\n",
       "      <td>CE1</td>\n",
       "      <td>CE</td>\n",
       "      <td>1</td>\n",
       "    </tr>\n",
       "  </tbody>\n",
       "</table>\n",
       "</div>"
      ],
      "text/plain": [
       "                       name  code line  num\n",
       "11    ADMIRALTY MRT STATION  NS10   NS   10\n",
       "15     ALJUNIED MRT STATION   EW9   EW    9\n",
       "16   ANG MO KIO MRT STATION  NS16   NS   16\n",
       "130     BARTLEY MRT STATION  CC12   CC   12\n",
       "182    BAYFRONT MRT STATION   CE1   CE    1"
      ]
     },
     "execution_count": 51,
     "metadata": {},
     "output_type": "execute_result"
    }
   ],
   "source": [
    "df.head()"
   ]
  },
  {
   "cell_type": "code",
   "execution_count": 52,
   "id": "f78def06-c584-4668-84f4-0ed477c72836",
   "metadata": {},
   "outputs": [],
   "source": [
    "processed = [] \n",
    "for row in df.values:\n",
    "    duplicates = df[df.name == row[0]]\n",
    "    if len(duplicates) > 1 and row[0] not in processed:\n",
    "        processed.append(row[0])\n",
    "        rows = duplicates.values\n",
    "        for i in range(len(duplicates)):\n",
    "            for j in range(i+1, len(duplicates)):\n",
    "                metro[rows[i][1]].edges.append(rows[j][1])\n",
    "                metro[rows[j][1]].edges.append(rows[i][1])"
   ]
  },
  {
   "cell_type": "code",
   "execution_count": 53,
   "id": "5e8d24e8-7223-43aa-9754-1c6cc59da925",
   "metadata": {},
   "outputs": [
    {
     "name": "stdout",
     "output_type": "stream",
     "text": [
      "CC1 DHOBY GHAUT MRT STATION ['CC2', 'NE6', 'NS24']\n"
     ]
    }
   ],
   "source": [
    "metro['CC1'].display()"
   ]
  },
  {
   "cell_type": "code",
   "execution_count": 54,
   "id": "4c197531-739e-471a-adea-6df325bc957d",
   "metadata": {},
   "outputs": [
    {
     "name": "stdout",
     "output_type": "stream",
     "text": [
      "NS24 DHOBY GHAUT MRT STATION ['NS23', 'NS25', 'CC1', 'NE6']\n"
     ]
    }
   ],
   "source": [
    "metro['NS24'].display()"
   ]
  },
  {
   "cell_type": "code",
   "execution_count": 55,
   "id": "496bfb73-6155-4f8a-9bf2-84271c0cba30",
   "metadata": {},
   "outputs": [
    {
     "name": "stdout",
     "output_type": "stream",
     "text": [
      "NE6 DHOBY GHAUT MRT STATION ['NE5', 'NE7', 'CC1', 'NS24']\n"
     ]
    }
   ],
   "source": [
    "metro['NE6'].display()"
   ]
  },
  {
   "cell_type": "code",
   "execution_count": 56,
   "id": "a2cebfc6-1c16-41c0-823b-0bbe008fa768",
   "metadata": {},
   "outputs": [],
   "source": [
    "df.to_csv('processed_stations.csv', index=False)"
   ]
  },
  {
   "cell_type": "code",
   "execution_count": null,
   "id": "b90dea14-cf48-43c3-a8eb-f5d88d2abca7",
   "metadata": {},
   "outputs": [],
   "source": []
  }
 ],
 "metadata": {
  "kernelspec": {
   "display_name": "Python [conda env:base] *",
   "language": "python",
   "name": "conda-base-py"
  },
  "language_info": {
   "codemirror_mode": {
    "name": "ipython",
    "version": 3
   },
   "file_extension": ".py",
   "mimetype": "text/x-python",
   "name": "python",
   "nbconvert_exporter": "python",
   "pygments_lexer": "ipython3",
   "version": "3.12.7"
  }
 },
 "nbformat": 4,
 "nbformat_minor": 5
}
